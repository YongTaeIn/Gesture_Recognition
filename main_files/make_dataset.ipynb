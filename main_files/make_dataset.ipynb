{
 "cells": [
  {
   "cell_type": "code",
   "execution_count": 4,
   "metadata": {},
   "outputs": [
    {
     "name": "stdout",
     "output_type": "stream",
     "text": [
      "Python version: 3.8.18 | packaged by conda-forge | (default, Oct 10 2023, 15:46:56) \n",
      "[Clang 16.0.6 ]\n",
      "cv2 version: 4.8.1\n",
      "mediapipe version 0.10.7\n",
      "pandas version: 2.0.3\n",
      "numpy version: 1.24.4\n"
     ]
    }
   ],
   "source": [
    "import cv2\n",
    "import mediapipe as mp\n",
    "import numpy as np\n",
    "import pandas as pd\n",
    "import sys\n",
    "\n",
    "\n",
    "print(\"Python version:\", sys.version)\n",
    "print(\"cv2 version:\", cv2.__version__)\n",
    "print(\"mediapipe version\", mp.__version__)\n",
    "print(\"pandas version:\", pd.__version__)\n",
    "print(\"numpy version:\", np.__version__)\n"
   ]
  },
  {
   "cell_type": "code",
   "execution_count": 5,
   "metadata": {},
   "outputs": [],
   "source": [
    "## Setting Class number and Hyperparameters\n",
    "class_num=0     # you must change class_num when gathering geture.\n",
    "max_num_hands=1  # Number of hands recognized\n",
    "\n",
    "\n",
    "\n",
    "gesture={\n",
    "    0 : 'Right',\n",
    "    1 : 'Left',\n",
    "    2 : 'Turn Clockwise',\n",
    "    3 : 'Turn Anticlockwise'\n",
    "\n",
    "}\n"
   ]
  },
  {
   "cell_type": "code",
   "execution_count": 6,
   "metadata": {},
   "outputs": [
    {
     "name": "stderr",
     "output_type": "stream",
     "text": [
      "INFO: Created TensorFlow Lite XNNPACK delegate for CPU.\n"
     ]
    }
   ],
   "source": [
    "# Mediapipe hands model\n",
    "\n",
    "mp_hands = mp.solutions.hands\n",
    "mp_drawing = mp.solutions.drawing_utils\n",
    "hands = mp_hands.Hands(\n",
    "    max_num_hands=max_num_hands,\n",
    "    min_detection_confidence=0.5,\n",
    "    min_tracking_confidence=0.5)"
   ]
  },
  {
   "cell_type": "code",
   "execution_count": 4,
   "metadata": {},
   "outputs": [],
   "source": [
    "# if click left mouse button gathering data is start and end.\n",
    "\n",
    "\n",
    "# def click(event,x,y,flags,param):\n",
    "#     global data, file\n",
    "#     if event ==cv2.EVENT_LBUTTONDOWN:\n",
    "#         file = np.vstack((file, data))\n",
    "#         print(file.shape)\n",
    "\n",
    "\n",
    "# cv2.namedWindow('Dataset')  # make window\n",
    "# cv2.setMouseCallback('Dataset',click) # trigger mouse event "
   ]
  },
  {
   "cell_type": "code",
   "execution_count": 4,
   "metadata": {},
   "outputs": [],
   "source": [
    "# make Data set code\n",
    "\n",
    "# 만약 기존의 데이터 파일에서 붙여서 계속 데이터를 모으고 싶다면, 아래 파일명만 바꾸면 됨.\n",
    "# default_array = np.genfromtxt('./data/start_file.csv', delimiter=',')\n",
    "\n",
    "# 기존의 데이터 없이 데이터 수집하는 경우.\n",
    "default_array=np.array(range(100),dtype='float64')\n",
    "\n",
    "webcam = cv2.VideoCapture(0)  # 몇번째 카메라인지 설정.\n",
    "\n",
    "while webcam.isOpened():  # webcap 열려있는지 확인.\n",
    "    seq=[]\n",
    "    status, frame =webcam.read()\n",
    "\n",
    "    if not status:\n",
    "        continue\n",
    "\n",
    "    frame=cv2.flip(frame,1)\n",
    "    frame = cv2.cvtColor(frame, cv2.COLOR_BGR2RGB)\n",
    "    result = hands.process(frame)\n",
    "    frame = cv2.cvtColor(frame, cv2.COLOR_RGB2BGR)\n",
    "\n",
    "    if result.multi_hand_landmarks is not None:\n",
    "\n",
    "        # 손에 대한 정보 실시간(프레임 느낌)으로 계속 가져옴.\n",
    "        # res 에 21개의 (x,y,z) 정보가 들어있음( 각각 관절의 위치 값들)\n",
    "        for res in result.multi_hand_landmarks:\n",
    "            joint = np.zeros((21, 4))\n",
    "\n",
    "            \n",
    "            # 21개의 관절 포인트에 대해 joint 할당함.\n",
    "            for j, lm in enumerate(res.landmark):\n",
    "                \n",
    "                # x ,y, z(distance between camera and hand)\n",
    "                joint[j] = [lm.x, lm.y, lm.z, lm.visibility] # [21,4]\n",
    "            \n",
    "\n",
    "            # Compute angles between joints\n",
    "            v1 = joint[[0,1,2,3,0,5,6,7,0,9,10,11,0,13,14,15,0,17,18,19],:] # Parent joint\n",
    "            v2 = joint[[1,2,3,4,5,6,7,8,9,10,11,12,13,14,15,16,17,18,19,20],:] # Child joint\n",
    "            v = v2 - v1 # [20,4]\n",
    "            \n",
    "            \n",
    "            # Normalize v\n",
    "            v = v / np.linalg.norm(v, axis=1)[:, np.newaxis]   #[20,4]\n",
    "             \n",
    "\n",
    "            # Get angle using arcos of dot product\n",
    "            # angle [15,1]\n",
    "            angle = np.arccos(np.einsum('nt,nt->n',\n",
    "                v[[0,1,2,4,5,6,8,9,10,12,13,14,16,17,18],:], \n",
    "                v[[1,2,3,5,6,7,9,10,11,13,14,15,17,18,19],:])) \n",
    "            \n",
    "\n",
    "\n",
    "            angle = np.degrees(angle) # Convert radian to degree\n",
    "            angle = np.array([angle], dtype=np.float32)\n",
    "            \n",
    "            #  'angle + class_num'\n",
    "            #   angle_label [16,1]\n",
    "            angle_label = np.append(angle, class_num) \n",
    "           \n",
    "            # joint[21,4] + angle_label[16,1] \n",
    "            # joint_angle_label [100,]\n",
    "            joint_angle_label = np.concatenate([joint.flatten(), angle_label])\n",
    "\n",
    "\n",
    "\n",
    "            mp_drawing.draw_landmarks(frame, res, mp_hands.HAND_CONNECTIONS)\n",
    "\n",
    "            \n",
    "\n",
    "            # np.array() 형태로 계속 붙음.(넘파이 형태임.)\n",
    "            seq.append(joint_angle_label)  \n",
    "            \n",
    "\n",
    "        data=np.array(seq)\n",
    "        default_array = np.vstack((default_array, data))\n",
    "        # print('file shape : ',default_array.shape)\n",
    "\n",
    "            \n",
    "    \n",
    "    cv2.imshow('Dataset', frame)\n",
    "    if cv2.waitKey(1) == ord('q'):\n",
    "        break\n",
    "\n",
    "\n",
    "# save file\n",
    "np.savetxt('./main_data/data_gesture_'+gesture[class_num]+'.csv', default_array[1:,:], delimiter=',')"
   ]
  },
  {
   "cell_type": "code",
   "execution_count": null,
   "metadata": {},
   "outputs": [],
   "source": []
  },
  {
   "cell_type": "code",
   "execution_count": null,
   "metadata": {},
   "outputs": [],
   "source": []
  },
  {
   "cell_type": "code",
   "execution_count": null,
   "metadata": {},
   "outputs": [],
   "source": []
  }
 ],
 "metadata": {
  "kernelspec": {
   "display_name": "gesture",
   "language": "python",
   "name": "python3"
  },
  "language_info": {
   "codemirror_mode": {
    "name": "ipython",
    "version": 3
   },
   "file_extension": ".py",
   "mimetype": "text/x-python",
   "name": "python",
   "nbconvert_exporter": "python",
   "pygments_lexer": "ipython3",
   "version": "3.8.18"
  }
 },
 "nbformat": 4,
 "nbformat_minor": 2
}
