{
 "cells": [
  {
   "cell_type": "code",
   "execution_count": 1,
   "metadata": {},
   "outputs": [],
   "source": [
    "from torch.utils.data import Dataset,DataLoader,random_split\n",
    "import torch\n",
    "import os\n",
    "import pandas as pd\n",
    "import numpy as np\n",
    "\n",
    "class CustomDataset(Dataset):\n",
    "    \n",
    "    # 데이터 전처리\n",
    "    def __init__(self, window_size,Folder_dir):\n",
    "        self.data_list=[]\n",
    "        swindow_size=window_size\n",
    "        Folder_path=Folder_dir\n",
    "\n",
    "        for filename in os.listdir(Folder_path):\n",
    "\n",
    "            data=pd.read_csv(Folder_path+filename)\n",
    "            data=data.to_numpy()\n",
    "\n",
    "            features=torch.FloatTensor(data[:,0:99])\n",
    "            labels=torch.FloatTensor(data[:,99])\n",
    "            labels=labels.reshape(len(labels),-1)\n",
    "            \n",
    "            \n",
    "            for i in range(len(features)-window_size):\n",
    "                features_subset=features[i:i+window_size]\n",
    "                labels_subset=labels[i]\n",
    "                \n",
    "                # print(features_subset.shape)\n",
    "                # print(labels_subset.shape)\n",
    "                self.data_list.append([features_subset,labels_subset])\n",
    "\n",
    "    # 데이터 길이\n",
    "    def __len__(self):\n",
    "\n",
    "        return len(self.data_list)\n",
    "\n",
    "\n",
    "    # 데이터 셋을 전처리 후 반환하는 함수\n",
    "    def __getitem__(self, idx):\n",
    "        \n",
    "        x,y=self.data_list[idx]\n",
    "\n",
    "        x = torch.FloatTensor(x)\n",
    "        y = torch.FloatTensor(y)\n",
    "\n",
    "        return x, y"
   ]
  },
  {
   "cell_type": "code",
   "execution_count": 3,
   "metadata": {},
   "outputs": [],
   "source": [
    "dataset=CustomDataset(window_size=30, Folder_dir='../main_data/')\n",
    "dataloader=DataLoader(dataset,batch_size=64,shuffle=True)"
   ]
  },
  {
   "cell_type": "code",
   "execution_count": 5,
   "metadata": {},
   "outputs": [
    {
     "name": "stdout",
     "output_type": "stream",
     "text": [
      "torch.Size([64, 30, 99])\n",
      "torch.Size([64, 1])\n"
     ]
    }
   ],
   "source": [
    "for i in dataloader:\n",
    "    print(i[0].shape)\n",
    "    print(i[1].shape)\n",
    "    break"
   ]
  }
 ],
 "metadata": {
  "kernelspec": {
   "display_name": "Gesture",
   "language": "python",
   "name": "python3"
  },
  "language_info": {
   "codemirror_mode": {
    "name": "ipython",
    "version": 3
   },
   "file_extension": ".py",
   "mimetype": "text/x-python",
   "name": "python",
   "nbconvert_exporter": "python",
   "pygments_lexer": "ipython3",
   "version": "3.9.18"
  }
 },
 "nbformat": 4,
 "nbformat_minor": 2
}
