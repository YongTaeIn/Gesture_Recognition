{
 "cells": [
  {
   "cell_type": "code",
   "execution_count": 2,
   "metadata": {},
   "outputs": [],
   "source": [
    "## torch 모듈에서는 Super().__init__() 을 해줘야 한다. \n",
    "\n",
    "import torch.nn as nn  # Neural Network, activation function 모듈의 기본 클래스\n",
    "import torch\n",
    "\n",
    "class CNN_LSTM(nn.Module):\n",
    "    def __init__(self,input_size,output_size,units):\n",
    "        super(CNN_LSTM,self).__init__()\n",
    "        \n",
    "        self.conv1d=nn.Conv1d(\n",
    "            in_channels=input_size,\n",
    "            out_channels=output_size,\n",
    "            kernel_size=3,\n",
    "            stride=1,\n",
    "            padding=0\n",
    "        )\n",
    "\n",
    "        self.lstm=nn.LSTM(\n",
    "            input_size=64,\n",
    "            hidden_size=units,\n",
    "            num_layers=1,\n",
    "            dropout=0.2,\n",
    "            batch_first=True) # if True = (batch, seq, features)\n",
    "        \n",
    "        self.Relu=nn.ReLU()\n",
    "\n",
    "        self.Linear_1=nn.Linear(\n",
    "            in_features=32,\n",
    "            out_features=4\n",
    "        )\n",
    "\n",
    "        self.softmax=nn.Softmax()\n",
    "\n",
    "    def forward(self,x):\n",
    "        # x.shape=(batch_size,seq_len,feautres) \n",
    "        #          -> (batch_size,feautres,seq_len)\n",
    "        print('1 : ',x.shape)\n",
    "        x=x.permute(0,2,1)\n",
    "        print('2 :',x.shape)\n",
    "        x=self.conv1d(x)\n",
    "        print('3 :',x.shape)\n",
    "        x=self.Relu(x)\n",
    "        print('4 :',x.shape)  # torch.Size([64, 64, 28])\n",
    "\n",
    "        x=x.permute(0,2,1)  # torch.Size([64,28,64])\n",
    "        h_n, c_n=self.lstm(x)\n",
    "        print('5 :',h_n.shape)  # torch.Size([64, 28, 32])\n",
    "\n",
    "        x=self.Linear_1(h_n[:,-1,:])\n",
    "\n",
    "        print('6 :',x.shape)\n",
    "        x=self.softmax(x)\n",
    "        return x\n"
   ]
  },
  {
   "cell_type": "code",
   "execution_count": null,
   "metadata": {},
   "outputs": [],
   "source": [
    "\n",
    "\n",
    "CNN_LSTM_model=CNN_LSTM(\n",
    "                    input_size=99,\n",
    "                    output_size=64,\n",
    "                    units=32)\n",
    "\n",
    "x_data=torch.randn(64,30,99)\n",
    "\n",
    "print(len(CNN_LSTM_model(x_data)))"
   ]
  }
 ],
 "metadata": {
  "kernelspec": {
   "display_name": "Gesture",
   "language": "python",
   "name": "python3"
  },
  "language_info": {
   "codemirror_mode": {
    "name": "ipython",
    "version": 3
   },
   "file_extension": ".py",
   "mimetype": "text/x-python",
   "name": "python",
   "nbconvert_exporter": "python",
   "pygments_lexer": "ipython3",
   "version": "3.9.18"
  }
 },
 "nbformat": 4,
 "nbformat_minor": 2
}
